{
 "cells": [
  {
   "cell_type": "code",
   "execution_count": 2,
   "metadata": {
    "collapsed": true
   },
   "outputs": [],
   "source": [
    "%matplotlib inline\n",
    "import pandas as pd\n",
    "import matplotlib.pyplot as plt\n",
    "import os"
   ]
  },
  {
   "cell_type": "code",
   "execution_count": 3,
   "metadata": {
    "collapsed": false
   },
   "outputs": [
    {
     "name": "stdout",
     "output_type": "stream",
     "text": [
      "Esperamos trabalhar no diretório\n",
      "C:\\Users\\Jose Fernando\\Documents\\2° Semestre\\Ciência dos Dados\n"
     ]
    }
   ],
   "source": [
    "print('Esperamos trabalhar no diretório')\n",
    "print(os.getcwd())"
   ]
  },
  {
   "cell_type": "code",
   "execution_count": 4,
   "metadata": {
    "collapsed": false
   },
   "outputs": [],
   "source": [
    "dados = pd.read_excel('PNAD 2013 A.xlsx')"
   ]
  },
  {
   "cell_type": "code",
   "execution_count": 4,
   "metadata": {
    "collapsed": false
   },
   "outputs": [
    {
     "data": {
      "text/html": [
       "<div>\n",
       "<table border=\"1\" class=\"dataframe\">\n",
       "  <thead>\n",
       "    <tr style=\"text-align: right;\">\n",
       "      <th></th>\n",
       "      <th>V0101</th>\n",
       "      <th>UF</th>\n",
       "      <th>V0102</th>\n",
       "      <th>V0103</th>\n",
       "      <th>V0301</th>\n",
       "      <th>V0302</th>\n",
       "      <th>V8005</th>\n",
       "      <th>V0404</th>\n",
       "      <th>V4011</th>\n",
       "      <th>V0412</th>\n",
       "      <th>...</th>\n",
       "      <th>V4706</th>\n",
       "      <th>V4707</th>\n",
       "      <th>V4809</th>\n",
       "      <th>V4810</th>\n",
       "      <th>V4711</th>\n",
       "      <th>V4718</th>\n",
       "      <th>V4720</th>\n",
       "      <th>V4742</th>\n",
       "      <th>V4750</th>\n",
       "      <th>V4729</th>\n",
       "    </tr>\n",
       "  </thead>\n",
       "  <tbody>\n",
       "    <tr>\n",
       "      <th>1</th>\n",
       "      <td>2013</td>\n",
       "      <td>11</td>\n",
       "      <td>15</td>\n",
       "      <td>3</td>\n",
       "      <td>1</td>\n",
       "      <td>4</td>\n",
       "      <td>42</td>\n",
       "      <td>2</td>\n",
       "      <td>5</td>\n",
       "      <td>2</td>\n",
       "      <td>...</td>\n",
       "      <td>NaN</td>\n",
       "      <td>NaN</td>\n",
       "      <td>NaN</td>\n",
       "      <td>NaN</td>\n",
       "      <td>NaN</td>\n",
       "      <td>NaN</td>\n",
       "      <td>350</td>\n",
       "      <td>350</td>\n",
       "      <td>350</td>\n",
       "      <td>244</td>\n",
       "    </tr>\n",
       "    <tr>\n",
       "      <th>2</th>\n",
       "      <td>2013</td>\n",
       "      <td>11</td>\n",
       "      <td>15</td>\n",
       "      <td>4</td>\n",
       "      <td>1</td>\n",
       "      <td>4</td>\n",
       "      <td>64</td>\n",
       "      <td>8</td>\n",
       "      <td>7</td>\n",
       "      <td>2</td>\n",
       "      <td>...</td>\n",
       "      <td>NaN</td>\n",
       "      <td>NaN</td>\n",
       "      <td>NaN</td>\n",
       "      <td>NaN</td>\n",
       "      <td>NaN</td>\n",
       "      <td>NaN</td>\n",
       "      <td>678</td>\n",
       "      <td>339</td>\n",
       "      <td>339</td>\n",
       "      <td>243</td>\n",
       "    </tr>\n",
       "    <tr>\n",
       "      <th>3</th>\n",
       "      <td>2013</td>\n",
       "      <td>11</td>\n",
       "      <td>15</td>\n",
       "      <td>4</td>\n",
       "      <td>2</td>\n",
       "      <td>4</td>\n",
       "      <td>13</td>\n",
       "      <td>4</td>\n",
       "      <td>0</td>\n",
       "      <td>2</td>\n",
       "      <td>...</td>\n",
       "      <td>NaN</td>\n",
       "      <td>NaN</td>\n",
       "      <td>NaN</td>\n",
       "      <td>NaN</td>\n",
       "      <td>NaN</td>\n",
       "      <td>NaN</td>\n",
       "      <td>0</td>\n",
       "      <td>339</td>\n",
       "      <td>339</td>\n",
       "      <td>243</td>\n",
       "    </tr>\n",
       "    <tr>\n",
       "      <th>4</th>\n",
       "      <td>2013</td>\n",
       "      <td>11</td>\n",
       "      <td>15</td>\n",
       "      <td>5</td>\n",
       "      <td>1</td>\n",
       "      <td>2</td>\n",
       "      <td>23</td>\n",
       "      <td>8</td>\n",
       "      <td>0</td>\n",
       "      <td>2</td>\n",
       "      <td>...</td>\n",
       "      <td>1</td>\n",
       "      <td>3</td>\n",
       "      <td>5</td>\n",
       "      <td>5</td>\n",
       "      <td>1</td>\n",
       "      <td>800</td>\n",
       "      <td>800</td>\n",
       "      <td>266</td>\n",
       "      <td>266</td>\n",
       "      <td>243</td>\n",
       "    </tr>\n",
       "    <tr>\n",
       "      <th>5</th>\n",
       "      <td>2013</td>\n",
       "      <td>11</td>\n",
       "      <td>15</td>\n",
       "      <td>5</td>\n",
       "      <td>2</td>\n",
       "      <td>4</td>\n",
       "      <td>19</td>\n",
       "      <td>8</td>\n",
       "      <td>0</td>\n",
       "      <td>2</td>\n",
       "      <td>...</td>\n",
       "      <td>NaN</td>\n",
       "      <td>NaN</td>\n",
       "      <td>NaN</td>\n",
       "      <td>NaN</td>\n",
       "      <td>NaN</td>\n",
       "      <td>NaN</td>\n",
       "      <td>0</td>\n",
       "      <td>266</td>\n",
       "      <td>266</td>\n",
       "      <td>243</td>\n",
       "    </tr>\n",
       "  </tbody>\n",
       "</table>\n",
       "<p>5 rows × 72 columns</p>\n",
       "</div>"
      ],
      "text/plain": [
       "   V0101  UF  V0102  V0103  V0301  V0302  V8005  V0404  V4011  V0412  ...    \\\n",
       "1   2013  11     15      3      1      4     42      2      5      2  ...     \n",
       "2   2013  11     15      4      1      4     64      8      7      2  ...     \n",
       "3   2013  11     15      4      2      4     13      4      0      2  ...     \n",
       "4   2013  11     15      5      1      2     23      8      0      2  ...     \n",
       "5   2013  11     15      5      2      4     19      8      0      2  ...     \n",
       "\n",
       "   V4706  V4707  V4809  V4810  V4711  V4718  V4720  V4742  V4750  V4729  \n",
       "1    NaN    NaN    NaN    NaN    NaN    NaN    350    350    350    244  \n",
       "2    NaN    NaN    NaN    NaN    NaN    NaN    678    339    339    243  \n",
       "3    NaN    NaN    NaN    NaN    NaN    NaN      0    339    339    243  \n",
       "4      1      3      5      5      1    800    800    266    266    243  \n",
       "5    NaN    NaN    NaN    NaN    NaN    NaN      0    266    266    243  \n",
       "\n",
       "[5 rows x 72 columns]"
      ]
     },
     "execution_count": 4,
     "metadata": {},
     "output_type": "execute_result"
    }
   ],
   "source": [
    "dados.head()"
   ]
  },
  {
   "cell_type": "code",
   "execution_count": 30,
   "metadata": {
    "collapsed": false
   },
   "outputs": [],
   "source": [
    "d = pd.DataFrame()\n",
    "d[\"sexo\"] = dados.V0302.astype('category')\n",
    "d[\"cor_ou_raca\"] = dados.V0404.astype('category')\n",
    "d[\"rede_de_ensino\"] = dados.V6002.astype('category')\n",
    "d[\"nivel_de_ensino\"] = dados.V4802.astype('category')\n",
    "d[\"UF\"] = dados.UF.astype('category')\n",
    "d[\"anos_de_estudos\"] = dados.V4803.astype('category')\n",
    "d[\"area_da_rede_publica_de_ensino\"] = dados.V6020.astype('category')\n"
   ]
  },
  {
   "cell_type": "code",
   "execution_count": 6,
   "metadata": {
    "collapsed": false
   },
   "outputs": [
    {
     "name": "stdout",
     "output_type": "stream",
     "text": [
      "Frequências relativas por Sexo:\n",
      "feminino     51.4\n",
      "masculino    48.6\n",
      "dtype: float64 \n",
      "\n"
     ]
    },
    {
     "data": {
      "image/png": "[encoded data removed]",
      "text/plain": [
       "<matplotlib.figure.Figure at 0x9df5d48dd8>"
      ]
     },
     "metadata": {},
     "output_type": "display_data"
    }
   ],
   "source": [
    "n = dados.shape[0]\n",
    "d.sexo.cat.categories = ('masculino','feminino')\n",
    "print('Frequências relativas por Sexo:')\n",
    "ut1 = (d.sexo.value_counts()/n*100).round(decimals=1)\n",
    "print(ut1,'\\n')\n",
    "plot = ut1.plot(kind='pie',title='sexo',autopct='%.1f',figsize=(6, 6))"
   ]
  },
  {
   "cell_type": "code",
   "execution_count": 7,
   "metadata": {
    "collapsed": false
   },
   "outputs": [
    {
     "name": "stdout",
     "output_type": "stream",
     "text": [
      "Frequências relativas por cor:\n",
      "parda             48.0\n",
      "branca            42.8\n",
      "preta              8.3\n",
      "indigena           0.5\n",
      "amarela            0.4\n",
      "sem declaração     0.0\n",
      "dtype: float64 \n",
      "\n"
     ]
    },
    {
     "data": {
      "image/png": "[encoded data removed]",
      "text/plain": [
       "<matplotlib.figure.Figure at 0x9dfbd78b00>"
      ]
     },
     "metadata": {},
     "output_type": "display_data"
    }
   ],
   "source": [
    "d.cor_ou_raca.cat.categories = ('indigena','branca','preta','amarela','parda','sem declaração')\n",
    "print('Frequências relativas por cor:')\n",
    "ut2 = (d.cor_ou_raca.value_counts()/n*100).round(decimals=1)\n",
    "print(ut2,'\\n')\n",
    "plot = ut2.plot(kind='bar',title='Cor ou Raça',figsize=(6, 6),color=('b','w','k','r','y'))"
   ]
  },
  {
   "cell_type": "code",
   "execution_count": 8,
   "metadata": {
    "collapsed": false
   },
   "outputs": [
    {
     "name": "stdout",
     "output_type": "stream",
     "text": [
      "Frequências relativas por rede de ensino:\n",
      "publica    21.5\n",
      "privada     6.9\n",
      "dtype: float64 \n",
      "\n"
     ]
    },
    {
     "data": {
      "image/png": "[encoded data removed]",
      "text/plain": [
       "<matplotlib.figure.Figure at 0x9db319a2e8>"
      ]
     },
     "metadata": {},
     "output_type": "display_data"
    }
   ],
   "source": [
    "d.rede_de_ensino.cat.categories = ('publica','privada')\n",
    "print('Frequências relativas por rede de ensino:')\n",
    "ut3 = (d.rede_de_ensino.value_counts()/n*100).round(decimals=1)\n",
    "print(ut3,'\\n')\n",
    "plot = ut3.plot(kind='bar',title='rede de ensino',figsize=(6, 6),color=('b','w','k','r','y'))"
   ]
  },
  {
   "cell_type": "code",
   "execution_count": 9,
   "metadata": {
    "collapsed": false
   },
   "outputs": [
    {
     "name": "stdout",
     "output_type": "stream",
     "text": [
      "Frequências relativas por nivel de ensino:\n",
      "2° a 5° serie/9             7.0\n",
      "6° a 9° serie/9             6.3\n",
      "ensino medio e pre-vest     4.8\n",
      "superior                    3.8\n",
      "maternal                    1.7\n",
      "1° serie/9                  1.6\n",
      "5° a 8° serie/8             0.6\n",
      "1° a 4° serie/8             0.3\n",
      "classe de alfabetização     0.3\n",
      "E.J.A. E.F.                 0.1\n",
      "alfabetização de adultos    0.1\n",
      "dtype: float64 \n",
      "\n"
     ]
    },
    {
     "data": {
      "image/png": "[encoded data removed]",
      "text/plain": [
       "<matplotlib.figure.Figure at 0x9d9e6ad630>"
      ]
     },
     "metadata": {},
     "output_type": "display_data"
    }
   ],
   "source": [
    "d.nivel_de_ensino.cat.categories = ('maternal', 'classe de alfabetização', 'alfabetização de adultos', '1° a 4° serie/8', '5° a 8° serie/8', '1° serie/9', '2° a 5° serie/9', '6° a 9° serie/9', 'E.J.A. E.F.', 'ensino medio e pre-vest', 'superior')\n",
    "print('Frequências relativas por nivel de ensino:')\n",
    "ut4 = (d.nivel_de_ensino.value_counts()/n*100).round(decimals=1)\n",
    "print(ut4,'\\n')\n",
    "plot = ut4.plot(kind='bar',title='nivel de ensino',figsize=(6, 6),color=('b','w','k','r','y'))"
   ]
  },
  {
   "cell_type": "code",
   "execution_count": 10,
   "metadata": {
    "collapsed": false
   },
   "outputs": [
    {
     "name": "stdout",
     "output_type": "stream",
     "text": [
      "Frequências relativas UF:\n",
      "Sao Paulo              10.9\n",
      "Minas Gerais            9.1\n",
      "Bahia                   7.5\n",
      "Rio Grande do Sul       7.5\n",
      "Rio de Janeiro          7.1\n",
      "Para                    6.2\n",
      "pernambuco              5.7\n",
      "Ceara                   5.3\n",
      "Paraná                  5.3\n",
      "Goias                   4.1\n",
      "Amazonas                3.6\n",
      "Santa Catarina          2.7\n",
      "Distrito Federal        2.6\n",
      "Maranhão                2.6\n",
      "Mato Grosso             2.0\n",
      "Rondonia                2.0\n",
      "Espirito Santo          1.9\n",
      "Tocantins               1.8\n",
      "Mato Grosso do Sul      1.7\n",
      "Paraiba                 1.7\n",
      "Sergipe                 1.7\n",
      "Piaui                   1.5\n",
      "Alagoas                 1.5\n",
      "Rio Grande Do Norte     1.4\n",
      "Acre                    1.2\n",
      "Amapa                   0.8\n",
      "Roraima                 0.8\n",
      "dtype: float64 \n",
      "\n"
     ]
    },
    {
     "data": {
      "image/png": "[encoded data removed]",
      "text/plain": [
       "<matplotlib.figure.Figure at 0x9db319a320>"
      ]
     },
     "metadata": {},
     "output_type": "display_data"
    }
   ],
   "source": [
    "d.UF.cat.categories = ('Rondonia','Acre','Amazonas','Roraima','Para','Amapa', 'Tocantins', 'Maranhão', 'Piaui','Ceara', 'Rio Grande Do Norte', 'Paraiba', 'pernambuco',\n",
    "                      'Alagoas', 'Sergipe', 'Bahia', 'Minas Gerais', 'Espirito Santo', 'Rio de Janeiro', 'Sao Paulo', 'Paraná', 'Santa Catarina',\n",
    "                      'Rio Grande do Sul', 'Mato Grosso do Sul', 'Mato Grosso', 'Goias', 'Distrito Federal')\n",
    "print('Frequências relativas UF:')\n",
    "ut5 = (d.UF.value_counts()/n*100).round(decimals=1)\n",
    "print(ut5,'\\n')\n",
    "plot = ut5.plot(kind='bar',title='UF',figsize=(6, 6),color=('b','w','k','r','y'))"
   ]
  },
  {
   "cell_type": "code",
   "execution_count": 16,
   "metadata": {
    "collapsed": false
   },
   "outputs": [
    {
     "name": "stdout",
     "output_type": "stream",
     "text": [
      "Frequências relativas de anos de estudos:\n",
      "sem instrução menos de 1 ano    19.8\n",
      "11 anos                         19.4\n",
      "8 anos                           8.7\n",
      "4 anos                           8.3\n",
      "15 anos ou mais                  7.7\n",
      "5 anos                           5.7\n",
      "3 anos                           4.6\n",
      "6 anos                           3.9\n",
      "2 anos                           3.8\n",
      "7 anos                           3.8\n",
      "9 anos                           3.0\n",
      "10 anos                          3.0\n",
      "1 ano                            3.0\n",
      "12 anos                          2.2\n",
      "14 anos                          1.5\n",
      "13 anos                          1.3\n",
      "nao determinados                 0.2\n",
      "dtype: float64 \n",
      "\n"
     ]
    },
    {
     "data": {
      "image/png": "[encoded data removed]",
      "text/plain": [
       "<matplotlib.figure.Figure at 0x9d980d9f98>"
      ]
     },
     "metadata": {},
     "output_type": "display_data"
    }
   ],
   "source": [
    "d.anos_de_estudos.cat.categories = ('sem instrução menos de 1 ano','1 ano', '2 anos', '3 anos', '4 anos','5 anos','6 anos',\n",
    "                                  '7 anos','8 anos','9 anos','10 anos','11 anos','12 anos','13 anos','14 anos','15 anos ou mais','nao determinados')\n",
    "print('Frequências relativas de anos de estudos:')\n",
    "ut6 = (d.anos_de_estudos.value_counts()/n*100).round(decimals=1)\n",
    "print(ut6,'\\n')\n",
    "plot = ut6.plot(kind='bar',title='anos de estudos',figsize=(6, 6),color=('b','w','k','r','y'))"
   ]
  },
  {
   "cell_type": "code",
   "execution_count": 13,
   "metadata": {
    "collapsed": false
   },
   "outputs": [
    {
     "name": "stdout",
     "output_type": "stream",
     "text": [
      "Frequências relativas por area da rede publica de ensino:\n",
      "municipal    11.6\n",
      "estadual      9.1\n",
      "federal       0.8\n",
      "dtype: float64 \n",
      "\n"
     ]
    },
    {
     "data": {
      "image/png": "[encoded data removed]",
      "text/plain": [
       "<matplotlib.figure.Figure at 0x9df5cccc18>"
      ]
     },
     "metadata": {},
     "output_type": "display_data"
    }
   ],
   "source": [
    "d.area_da_rede_publica_de_ensino.cat.categories = ('municipal','estadual','federal')\n",
    "print('Frequências relativas por area da rede publica de ensino:')\n",
    "ut7 = (d.area_da_rede_publica_de_ensino.value_counts()/n*100).round(decimals=1)\n",
    "print(ut7,'\\n')\n",
    "plot = ut7.plot(kind='bar',title='rede publica',figsize=(6, 6),color=('b','w','k','r','y'))"
   ]
  },
  {
   "cell_type": "code",
   "execution_count": 20,
   "metadata": {
    "collapsed": false
   },
   "outputs": [
    {
     "name": "stdout",
     "output_type": "stream",
     "text": [
      "rede_de_ensino            publica  privada\n",
      "nivel_de_ensino                           \n",
      "maternal                     4457     1836\n",
      "classe de alfabetização       788      285\n",
      "alfabetização de adultos      413       22\n",
      "1° a 4° serie/8               997       95\n",
      "5° a 8° serie/8              2033      129\n",
      "1° serie/9                   4645     1040\n",
      "2° a 5° serie/9             21575     3822\n",
      "6° a 9° serie/9             19835     3137\n",
      "E.J.A. E.F.                   454       19\n",
      "ensino medio e pre-vest     14973     2430\n",
      "superior                     3647     9997\n"
     ]
    }
   ],
   "source": [
    "ct = pd.crosstab(d.nivel_de_ensino, d.rede_de_ensino)\n",
    "print(ct)"
   ]
  },
  {
   "cell_type": "code",
   "execution_count": 21,
   "metadata": {
    "collapsed": false
   },
   "outputs": [
    {
     "name": "stdout",
     "output_type": "stream",
     "text": [
      "anos_de_estudos  sem instrução menos de 1 ano  1 ano  2 anos  3 anos  4 anos  \\\n",
      "cor_ou_raca                                                                    \n",
      "indigena                                  552     75      94      89     110   \n",
      "branca                                  27238   3784    4884    6060   12629   \n",
      "preta                                    5634    866    1207    1463    2554   \n",
      "amarela                                   181     26      34      38      98   \n",
      "parda                                   38062   6258    7711    8994   14705   \n",
      "sem declaração                              6      0       0       0       0   \n",
      "\n",
      "anos_de_estudos  5 anos  6 anos  7 anos  8 anos  9 anos  10 anos  11 anos  \\\n",
      "cor_ou_raca                                                                 \n",
      "indigena            112      51      69     124      35       51      208   \n",
      "branca             7814    5262    5069   13284    4145     4468    31683   \n",
      "preta              1975    1283    1296    2777    1054     1008     6411   \n",
      "amarela              55      42      38     108      33       48      330   \n",
      "parda             10680    7499    7254   15296    5782     5446    31535   \n",
      "sem declaração        0       0       0       0       0        0        0   \n",
      "\n",
      "anos_de_estudos  12 anos  13 anos  14 anos  15 anos ou mais  nao determinados  \n",
      "cor_ou_raca                                                                    \n",
      "indigena              22       12       13               66                 5  \n",
      "branca              4101     2831     3089            18592               285  \n",
      "preta                636      276      368             1238                84  \n",
      "amarela               49       29       39              318                 5  \n",
      "parda               3021     1664     1784             7832               519  \n",
      "sem declaração         0        0        0                0                 0  \n"
     ]
    }
   ],
   "source": [
    "ct2 = pd.crosstab(d.cor_ou_raca, d.anos_de_estudos)\n",
    "print(ct2)"
   ]
  },
  {
   "cell_type": "code",
   "execution_count": 22,
   "metadata": {
    "collapsed": false
   },
   "outputs": [
    {
     "name": "stdout",
     "output_type": "stream",
     "text": [
      "UF                        Rondonia  Acre  Amazonas  Roraima  Para  Amapa  \\\n",
      "nivel_de_ensino                                                            \n",
      "maternal                       101    84       271       47   501     48   \n",
      "classe de alfabetização         19    26        80       16    51     13   \n",
      "alfabetização de adultos         5    11        11        2    12      6   \n",
      "1° a 4° serie/8                 30    24        47       12   151     22   \n",
      "5° a 8° serie/8                 40    17        73       22   243     45   \n",
      "1° serie/9                     115   106       288       71   380     78   \n",
      "2° a 5° serie/9                561   488      1303      231  2071    301   \n",
      "6° a 9° serie/9                522   332      1082      167  1589    164   \n",
      "E.J.A. E.F.                     17    46        25        3    40      1   \n",
      "ensino medio e pre-vest        373   241       738      150  1245    169   \n",
      "superior                       229   168       561      134   614    155   \n",
      "\n",
      "UF                        Tocantins  Maranhão  Piaui  Ceara        ...         \\\n",
      "nivel_de_ensino                                                    ...          \n",
      "maternal                         93       264    125    414        ...          \n",
      "classe de alfabetização          33        22      8     34        ...          \n",
      "alfabetização de adultos          2        33     18     37        ...          \n",
      "1° a 4° serie/8                  13        29     14     36        ...          \n",
      "5° a 8° serie/8                  20        43     24     37        ...          \n",
      "1° serie/9                      108       174    108    280        ...          \n",
      "2° a 5° serie/9                 526       917    496   1329        ...          \n",
      "6° a 9° serie/9                 540       780    426   1443        ...          \n",
      "E.J.A. E.F.                       1        11      2     36        ...          \n",
      "ensino medio e pre-vest         400       553    279    949        ...          \n",
      "superior                        229       203    189    668        ...          \n",
      "\n",
      "UF                        Espirito Santo  Rio de Janeiro  Sao Paulo  Paraná  \\\n",
      "nivel_de_ensino                                                               \n",
      "maternal                             101             395        614     230   \n",
      "classe de alfabetização               23             167         63      29   \n",
      "alfabetização de adultos               4              19         15      23   \n",
      "1° a 4° serie/8                       29              41         88      53   \n",
      "5° a 8° serie/8                       51              70        246      89   \n",
      "1° serie/9                           115             359        568     249   \n",
      "2° a 5° serie/9                      437            1547       2139    1147   \n",
      "6° a 9° serie/9                      355            1506       2098    1054   \n",
      "E.J.A. E.F.                            0              16          9      39   \n",
      "ensino medio e pre-vest              275            1108       1801     869   \n",
      "superior                             259             842       1488     794   \n",
      "\n",
      "UF                        Santa Catarina  Rio Grande do Sul  \\\n",
      "nivel_de_ensino                                               \n",
      "maternal                             141                323   \n",
      "classe de alfabetização               11                 28   \n",
      "alfabetização de adultos               7                 21   \n",
      "1° a 4° serie/8                       27                 87   \n",
      "5° a 8° serie/8                      126                508   \n",
      "1° serie/9                           145                343   \n",
      "2° a 5° serie/9                      525               1590   \n",
      "6° a 9° serie/9                      438               1123   \n",
      "E.J.A. E.F.                           11                 17   \n",
      "ensino medio e pre-vest              438               1125   \n",
      "superior                             484               1122   \n",
      "\n",
      "UF                        Mato Grosso do Sul  Mato Grosso  Goias  \\\n",
      "nivel_de_ensino                                                    \n",
      "maternal                                  88          109    247   \n",
      "classe de alfabetização                   24           33     35   \n",
      "alfabetização de adultos                   5            7      8   \n",
      "1° a 4° serie/8                            7           18     18   \n",
      "5° a 8° serie/8                           15           31     13   \n",
      "1° serie/9                               118          128    213   \n",
      "2° a 5° serie/9                          404          435    998   \n",
      "6° a 9° serie/9                          394          426    934   \n",
      "E.J.A. E.F.                                8            8     14   \n",
      "ensino medio e pre-vest                  247          413    715   \n",
      "superior                                 292          320    623   \n",
      "\n",
      "UF                        Distrito Federal  \n",
      "nivel_de_ensino                             \n",
      "maternal                               172  \n",
      "classe de alfabetização                 22  \n",
      "alfabetização de adultos                 6  \n",
      "1° a 4° serie/8                         29  \n",
      "5° a 8° serie/8                         41  \n",
      "1° serie/9                             127  \n",
      "2° a 5° serie/9                        616  \n",
      "6° a 9° serie/9                        634  \n",
      "E.J.A. E.F.                              6  \n",
      "ensino medio e pre-vest                442  \n",
      "superior                               674  \n",
      "\n",
      "[11 rows x 27 columns]\n"
     ]
    }
   ],
   "source": [
    "ct3 = pd.crosstab(d.nivel_de_ensino, d.UF)\n",
    "print(ct3)"
   ]
  },
  {
   "cell_type": "code",
   "execution_count": 23,
   "metadata": {
    "collapsed": false
   },
   "outputs": [
    {
     "name": "stdout",
     "output_type": "stream",
     "text": [
      "sexo                      masculino  feminino\n",
      "nivel_de_ensino                              \n",
      "maternal                       3206      3087\n",
      "classe de alfabetização         511       562\n",
      "alfabetização de adultos        170       265\n",
      "1° a 4° serie/8                 505       587\n",
      "5° a 8° serie/8                1123      1039\n",
      "1° serie/9                     2920      2765\n",
      "2° a 5° serie/9               13475     11922\n",
      "6° a 9° serie/9               11838     11134\n",
      "E.J.A. E.F.                     201       272\n",
      "ensino medio e pre-vest        8049      9354\n",
      "superior                       5821      7823\n"
     ]
    }
   ],
   "source": [
    "ct4 = pd.crosstab(d.nivel_de_ensino, d.sexo)\n",
    "print(ct4)"
   ]
  },
  {
   "cell_type": "code",
   "execution_count": null,
   "metadata": {
    "collapsed": false
   },
   "outputs": [],
   "source": []
  },
  {
   "cell_type": "code",
   "execution_count": null,
   "metadata": {
    "collapsed": true
   },
   "outputs": [],
   "source": []
  }
 ],
 "metadata": {
  "kernelspec": {
   "display_name": "Python 3",
   "language": "python",
   "name": "python3"
  },
  "language_info": {
   "codemirror_mode": {
    "name": "ipython",
    "version": 3
   },
   "file_extension": ".py",
   "mimetype": "text/x-python",
   "name": "python",
   "nbconvert_exporter": "python",
   "pygments_lexer": "ipython3",
   "version": "3.5.1"
  }
 },
 "nbformat": 4,
 "nbformat_minor": 0
}
